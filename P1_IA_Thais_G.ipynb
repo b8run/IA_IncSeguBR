{
 "cells": [
  {
   "cell_type": "markdown",
   "metadata": {},
   "source": [
    "## Inteligência Artificial / UFPB\n",
    "Aluno: Bruno Soares de oliveira lopes. <br>\n",
    "Matricula:20200136697 <br>\n",
    "Dataset: <a href=\"https://www.kaggle.com/datasets/rodrigoriboldi/incidentes-de-segurana-da-informao-no-brasil\">Incidentes de Segurança da Informação no Brasil</a>\n"
   ]
  },
  {
   "cell_type": "code",
   "execution_count": null,
   "metadata": {},
   "outputs": [],
   "source": []
  }
 ],
 "metadata": {
  "language_info": {
   "name": "python"
  },
  "orig_nbformat": 4
 },
 "nbformat": 4,
 "nbformat_minor": 2
}
