{
 "cells": [
  {
   "cell_type": "markdown",
   "metadata": {},
   "source": [
    "## Inteligência Artificial / UFPB\n",
    "Aluno: Bruno Soares de oliveira lopes. <br>\n",
    "Matricula:20200136697 <br>\n",
    "Dataset: <a href=\"https://www.kaggle.com/datasets/rodrigoriboldi/incidentes-de-segurana-da-informao-no-brasil\">Incidentes de Segurança da Informação no Brasil</a>\n"
   ]
  },
  {
   "cell_type": "markdown",
   "metadata": {},
   "source": [
    "**1)** Para cada um dos agentes a seguir, desenvolva uma descrição completando a tabela abaixo sobre o ambiente de tarefas de cada um. <br>\n",
    "\n",
    "(A) Agente comentarista de jogo - CSGO. <br> <br>\n",
    "(B) Agente sugestor de vinho. <br> <br>\n",
    "(C) Agente treinador de time - E-sport."
   ]
  },
  {
   "cell_type": "markdown",
   "metadata": {},
   "source": [
    "|Agente| Medida de Desempenho | Ambiente | Atuadores | Sensores |\n",
    "| :- | :- | :- | :- | :- |\n",
    "| (A) | Passar informações das melhores jogadas, detalhar jogadas do MPV(melhor player do campeonato) de forma correta.  | Qual melhor mapa do game, atualizações sobre futuras mudanças no jogo, clutch(jogadas épicas) dos jogados | Dados do MVP do campeonato, reação dos jogadores ao ganhar o campeonato. | Movimentos do jogo, habilidades dos players em curto tempo, estatregia de jogo da equipe. |\n",
    "| (B) | Oferecer o melhor vinho considerando as caracteristicas do ambiente ou ambiente desejado pelo cliente. | Restaurantes, Feira de vinhos, Bares. | Informar os tipos de vinhos, regiões de produção, produtores e valores. | Degustação dos vinhos, Observação do teor alcoólico. |\n",
    "| (C) | Analisar a melhor tática dos jogadores, identificar melhor resultado positivo e negativo em partidas. | GH (Game House), campeonatos | Apresentar melhor jogada Solo, orientar sobre melhores jogadas e piores jogadas realizadas, informar qual foi o melhor mapa que o time ja jogou nos ultimos jogos. | Sensor visual, analise por monitor, comunicação do time em conjunto. |"
   ]
  },
  {
   "cell_type": "markdown",
   "metadata": {},
   "source": [
    "**2)** Diferencie os 4 tipos de aprendizado de máquina. Para tanto, escolha uma base de dados do Kaggle e explique como aplicar os 4 métodos nessa mesma base. "
   ]
  },
  {
   "cell_type": "markdown",
   "metadata": {},
   "source": [
    ">> Aprendizado supervisionado\n",
    " - A partir de um metodo de classificação, é passado para uma máquina uma base de dados com informações, e passado os valores certos e errados por um humano e em seguida a serem comparadas pela máquina, e só assim dar uma resposta a partir dos dados que ela recebeu.\n",
    " - A base proposta coletada no Kaggle é de um dataset de incidentes de segurança registradas no Brasil, onde apresenta números de casos e os principais casos de incidentes. "
   ]
  },
  {
   "cell_type": "markdown",
   "metadata": {},
   "source": [
    ">> Aprendizado não-supervisionado\n",
    " - Diferente do supervisionado, o não-supervisionado age por si só, não lhe é passado exemplos rotulados, nesse método de aprendizagem a máquina informa seus resultados de forma independente.\n",
    " - Por ser uma tecnica de redução de dimensionalidade, é possivel que a máquina consiga a informação sobre o maior opressor dos incidentes, de acordo com o conjunto de dados desconhecido."
   ]
  },
  {
   "cell_type": "markdown",
   "metadata": {},
   "source": [
    ">> Aprendizado semi-supervisionado\n",
    " - Como o nome diz, Aprendizado semi-supervisionado os dados são parcialmente rotulados. Utilizado quando existe uma maior quantidade de dados não classificados em um conjunto menor rotulados. Empregado quando o custo de rotular dados é elevado.\n",
    " - pode ser usado para estimar pelo numero de registro de falhas de segurança por um conjunto de dados."
   ]
  },
  {
   "cell_type": "markdown",
   "metadata": {},
   "source": [
    ">>Aprendizado por reforço\n",
    " - Aprendizado que utiliza a lógica de tentativa e erro, e assim o próprio sistema aprende quais são as possíveis melhores ações a serem tomadas.\n",
    " - No caso da Base de incidências de falhas, é possivel identificar erros, comparando com as experiência anteriores, assim classificando futuras falhas com mais eficiência."
   ]
  },
  {
   "cell_type": "markdown",
   "metadata": {},
   "source": [
    "**3)** Em um Jupyter Notebook (link do collab, GitHub ou arquivo), utilize o método K vizinhos mais próximos na base escolhida na questão anterior para um contexto SUPERVISIONADO e para classificação: <br>"
   ]
  },
  {
   "cell_type": "markdown",
   "metadata": {},
   "source": [
    "**Dependencias**"
   ]
  },
  {
   "cell_type": "code",
   "execution_count": 114,
   "metadata": {},
   "outputs": [],
   "source": [
    "import pandas as pd\n",
    "import numpy as np\n",
    "import matplotlib.pyplot as plt\n",
    "import seaborn as sns\n",
    "\n",
    "\n",
    "from sklearn.decomposition import PCA\n",
    "from sklearn.preprocessing import OrdinalEncoder \n",
    "from sklearn.model_selection import train_test_split\n",
    "from sklearn import metrics\n",
    "from sklearn.neighbors import KNeighborsClassifier"
   ]
  },
  {
   "cell_type": "markdown",
   "metadata": {},
   "source": [
    "**DATASET**"
   ]
  },
  {
   "cell_type": "code",
   "execution_count": 115,
   "metadata": {},
   "outputs": [],
   "source": [
    "def Read_CSV(arquivo):\n",
    "    leitura = pd.read_csv(arquivo, encoding='utf-8', sep=';' )\n",
    "    return leitura"
   ]
  },
  {
   "cell_type": "code",
   "execution_count": 116,
   "metadata": {},
   "outputs": [
    {
     "data": {
      "text/html": [
       "<div>\n",
       "<style scoped>\n",
       "    .dataframe tbody tr th:only-of-type {\n",
       "        vertical-align: middle;\n",
       "    }\n",
       "\n",
       "    .dataframe tbody tr th {\n",
       "        vertical-align: top;\n",
       "    }\n",
       "\n",
       "    .dataframe thead th {\n",
       "        text-align: right;\n",
       "    }\n",
       "</style>\n",
       "<table border=\"1\" class=\"dataframe\">\n",
       "  <thead>\n",
       "    <tr style=\"text-align: right;\">\n",
       "      <th></th>\n",
       "      <th>Ano</th>\n",
       "      <th>Mes</th>\n",
       "      <th>Total</th>\n",
       "      <th>Worm</th>\n",
       "      <th>DOS</th>\n",
       "      <th>Invasao</th>\n",
       "      <th>Web</th>\n",
       "      <th>Scan</th>\n",
       "      <th>Fraude</th>\n",
       "      <th>Outros</th>\n",
       "    </tr>\n",
       "  </thead>\n",
       "  <tbody>\n",
       "    <tr>\n",
       "      <th>0</th>\n",
       "      <td>2019</td>\n",
       "      <td>Janeiro</td>\n",
       "      <td>62481</td>\n",
       "      <td>7796</td>\n",
       "      <td>4191</td>\n",
       "      <td>19</td>\n",
       "      <td>2594</td>\n",
       "      <td>46038</td>\n",
       "      <td>1744</td>\n",
       "      <td>99</td>\n",
       "    </tr>\n",
       "    <tr>\n",
       "      <th>1</th>\n",
       "      <td>2019</td>\n",
       "      <td>Fevereiro</td>\n",
       "      <td>70069</td>\n",
       "      <td>7707</td>\n",
       "      <td>2192</td>\n",
       "      <td>27</td>\n",
       "      <td>4179</td>\n",
       "      <td>54401</td>\n",
       "      <td>1459</td>\n",
       "      <td>104</td>\n",
       "    </tr>\n",
       "    <tr>\n",
       "      <th>2</th>\n",
       "      <td>2019</td>\n",
       "      <td>Março</td>\n",
       "      <td>85409</td>\n",
       "      <td>4476</td>\n",
       "      <td>29309</td>\n",
       "      <td>19</td>\n",
       "      <td>2006</td>\n",
       "      <td>47966</td>\n",
       "      <td>1521</td>\n",
       "      <td>112</td>\n",
       "    </tr>\n",
       "    <tr>\n",
       "      <th>3</th>\n",
       "      <td>2019</td>\n",
       "      <td>Abril</td>\n",
       "      <td>59900</td>\n",
       "      <td>7624</td>\n",
       "      <td>2718</td>\n",
       "      <td>37</td>\n",
       "      <td>1555</td>\n",
       "      <td>45774</td>\n",
       "      <td>2119</td>\n",
       "      <td>73</td>\n",
       "    </tr>\n",
       "    <tr>\n",
       "      <th>4</th>\n",
       "      <td>2019</td>\n",
       "      <td>Maio</td>\n",
       "      <td>52129</td>\n",
       "      <td>6555</td>\n",
       "      <td>15773</td>\n",
       "      <td>74</td>\n",
       "      <td>1425</td>\n",
       "      <td>25521</td>\n",
       "      <td>2633</td>\n",
       "      <td>148</td>\n",
       "    </tr>\n",
       "  </tbody>\n",
       "</table>\n",
       "</div>"
      ],
      "text/plain": [
       "    Ano        Mes  Total  Worm    DOS  Invasao   Web   Scan  Fraude  Outros\n",
       "0  2019    Janeiro  62481  7796   4191       19  2594  46038    1744      99\n",
       "1  2019  Fevereiro  70069  7707   2192       27  4179  54401    1459     104\n",
       "2  2019      Março  85409  4476  29309       19  2006  47966    1521     112\n",
       "3  2019      Abril  59900  7624   2718       37  1555  45774    2119      73\n",
       "4  2019       Maio  52129  6555  15773       74  1425  25521    2633     148"
      ]
     },
     "execution_count": 116,
     "metadata": {},
     "output_type": "execute_result"
    }
   ],
   "source": [
    "\n",
    "DATA = Read_CSV('cert_2010-2019.csv')\n",
    "DATA.head()"
   ]
  },
  {
   "cell_type": "markdown",
   "metadata": {},
   "source": [
    "**Pré-processamento dos dados**"
   ]
  },
  {
   "cell_type": "code",
   "execution_count": 117,
   "metadata": {},
   "outputs": [
    {
     "name": "stdout",
     "output_type": "stream",
     "text": [
      "<class 'pandas.core.frame.DataFrame'>\n",
      "RangeIndex: 120 entries, 0 to 119\n",
      "Data columns (total 10 columns):\n",
      " #   Column   Non-Null Count  Dtype \n",
      "---  ------   --------------  ----- \n",
      " 0   Ano      120 non-null    int64 \n",
      " 1   Mes      120 non-null    object\n",
      " 2   Total    120 non-null    int64 \n",
      " 3   Worm     120 non-null    int64 \n",
      " 4   DOS      120 non-null    int64 \n",
      " 5   Invasao  120 non-null    int64 \n",
      " 6   Web      120 non-null    int64 \n",
      " 7   Scan     120 non-null    int64 \n",
      " 8   Fraude   120 non-null    int64 \n",
      " 9   Outros   120 non-null    int64 \n",
      "dtypes: int64(9), object(1)\n",
      "memory usage: 9.5+ KB\n"
     ]
    }
   ],
   "source": [
    "DATA.info()"
   ]
  },
  {
   "cell_type": "markdown",
   "metadata": {},
   "source": [
    "**Identificando os valores numericos**"
   ]
  },
  {
   "cell_type": "code",
   "execution_count": 118,
   "metadata": {},
   "outputs": [
    {
     "data": {
      "text/plain": [
       "Ano        0\n",
       "Mes        0\n",
       "Total      0\n",
       "Worm       0\n",
       "DOS        0\n",
       "Invasao    0\n",
       "Web        0\n",
       "Scan       0\n",
       "Fraude     0\n",
       "Outros     0\n",
       "dtype: int64"
      ]
     },
     "execution_count": 118,
     "metadata": {},
     "output_type": "execute_result"
    }
   ],
   "source": [
    "DATA.isnull().sum()"
   ]
  },
  {
   "cell_type": "markdown",
   "metadata": {},
   "source": [
    "**Identificado que a base não tem valores NULL** <br>\n",
    "**Realizando um filtro com objetivo de trabalhar os valores numéricos**"
   ]
  },
  {
   "cell_type": "code",
   "execution_count": 119,
   "metadata": {},
   "outputs": [
    {
     "data": {
      "text/html": [
       "<div>\n",
       "<style scoped>\n",
       "    .dataframe tbody tr th:only-of-type {\n",
       "        vertical-align: middle;\n",
       "    }\n",
       "\n",
       "    .dataframe tbody tr th {\n",
       "        vertical-align: top;\n",
       "    }\n",
       "\n",
       "    .dataframe thead th {\n",
       "        text-align: right;\n",
       "    }\n",
       "</style>\n",
       "<table border=\"1\" class=\"dataframe\">\n",
       "  <thead>\n",
       "    <tr style=\"text-align: right;\">\n",
       "      <th></th>\n",
       "      <th>Total</th>\n",
       "      <th>Worm</th>\n",
       "      <th>DOS</th>\n",
       "      <th>Invasao</th>\n",
       "      <th>Web</th>\n",
       "      <th>Scan</th>\n",
       "      <th>Fraude</th>\n",
       "      <th>Outros</th>\n",
       "    </tr>\n",
       "  </thead>\n",
       "  <tbody>\n",
       "    <tr>\n",
       "      <th>count</th>\n",
       "      <td>120.000000</td>\n",
       "      <td>120.000000</td>\n",
       "      <td>120.000000</td>\n",
       "      <td>120.000000</td>\n",
       "      <td>120.000000</td>\n",
       "      <td>120.000000</td>\n",
       "      <td>120.000000</td>\n",
       "      <td>120.000000</td>\n",
       "    </tr>\n",
       "    <tr>\n",
       "      <th>mean</th>\n",
       "      <td>51360.641667</td>\n",
       "      <td>3448.166667</td>\n",
       "      <td>8261.991667</td>\n",
       "      <td>265.675000</td>\n",
       "      <td>2855.583333</td>\n",
       "      <td>24064.991667</td>\n",
       "      <td>9184.675000</td>\n",
       "      <td>3279.558333</td>\n",
       "    </tr>\n",
       "    <tr>\n",
       "      <th>std</th>\n",
       "      <td>38427.807026</td>\n",
       "      <td>2357.209104</td>\n",
       "      <td>27204.101583</td>\n",
       "      <td>391.464524</td>\n",
       "      <td>2396.054371</td>\n",
       "      <td>13109.143640</td>\n",
       "      <td>17528.364123</td>\n",
       "      <td>6239.560820</td>\n",
       "    </tr>\n",
       "    <tr>\n",
       "      <th>min</th>\n",
       "      <td>8223.000000</td>\n",
       "      <td>865.000000</td>\n",
       "      <td>0.000000</td>\n",
       "      <td>1.000000</td>\n",
       "      <td>402.000000</td>\n",
       "      <td>2920.000000</td>\n",
       "      <td>1459.000000</td>\n",
       "      <td>30.000000</td>\n",
       "    </tr>\n",
       "    <tr>\n",
       "      <th>25%</th>\n",
       "      <td>30145.500000</td>\n",
       "      <td>1836.250000</td>\n",
       "      <td>13.000000</td>\n",
       "      <td>22.750000</td>\n",
       "      <td>1329.750000</td>\n",
       "      <td>13255.000000</td>\n",
       "      <td>3294.250000</td>\n",
       "      <td>240.750000</td>\n",
       "    </tr>\n",
       "    <tr>\n",
       "      <th>50%</th>\n",
       "      <td>47623.000000</td>\n",
       "      <td>2862.000000</td>\n",
       "      <td>210.500000</td>\n",
       "      <td>103.500000</td>\n",
       "      <td>2001.500000</td>\n",
       "      <td>23249.500000</td>\n",
       "      <td>5324.000000</td>\n",
       "      <td>1141.500000</td>\n",
       "    </tr>\n",
       "    <tr>\n",
       "      <th>75%</th>\n",
       "      <td>58682.250000</td>\n",
       "      <td>4146.500000</td>\n",
       "      <td>5955.750000</td>\n",
       "      <td>374.500000</td>\n",
       "      <td>3534.250000</td>\n",
       "      <td>32565.750000</td>\n",
       "      <td>7815.750000</td>\n",
       "      <td>3489.750000</td>\n",
       "    </tr>\n",
       "    <tr>\n",
       "      <th>max</th>\n",
       "      <td>257618.000000</td>\n",
       "      <td>12871.000000</td>\n",
       "      <td>207780.000000</td>\n",
       "      <td>2149.000000</td>\n",
       "      <td>12169.000000</td>\n",
       "      <td>60890.000000</td>\n",
       "      <td>130108.000000</td>\n",
       "      <td>32746.000000</td>\n",
       "    </tr>\n",
       "  </tbody>\n",
       "</table>\n",
       "</div>"
      ],
      "text/plain": [
       "               Total          Worm            DOS      Invasao           Web  \\\n",
       "count     120.000000    120.000000     120.000000   120.000000    120.000000   \n",
       "mean    51360.641667   3448.166667    8261.991667   265.675000   2855.583333   \n",
       "std     38427.807026   2357.209104   27204.101583   391.464524   2396.054371   \n",
       "min      8223.000000    865.000000       0.000000     1.000000    402.000000   \n",
       "25%     30145.500000   1836.250000      13.000000    22.750000   1329.750000   \n",
       "50%     47623.000000   2862.000000     210.500000   103.500000   2001.500000   \n",
       "75%     58682.250000   4146.500000    5955.750000   374.500000   3534.250000   \n",
       "max    257618.000000  12871.000000  207780.000000  2149.000000  12169.000000   \n",
       "\n",
       "               Scan         Fraude        Outros  \n",
       "count    120.000000     120.000000    120.000000  \n",
       "mean   24064.991667    9184.675000   3279.558333  \n",
       "std    13109.143640   17528.364123   6239.560820  \n",
       "min     2920.000000    1459.000000     30.000000  \n",
       "25%    13255.000000    3294.250000    240.750000  \n",
       "50%    23249.500000    5324.000000   1141.500000  \n",
       "75%    32565.750000    7815.750000   3489.750000  \n",
       "max    60890.000000  130108.000000  32746.000000  "
      ]
     },
     "execution_count": 119,
     "metadata": {},
     "output_type": "execute_result"
    }
   ],
   "source": [
    "DATA_AUX = DATA.copy()\n",
    "DATA_AUX = DATA_AUX.drop([\"Mes\",\"Ano\"],axis=1)\n",
    "DATA_AUX.describe()"
   ]
  },
  {
   "cell_type": "markdown",
   "metadata": {},
   "source": [
    ">**3.1)** Aplique processos de pré-processamento e os necessários para execução do método K-NN. "
   ]
  },
  {
   "cell_type": "code",
   "execution_count": 120,
   "metadata": {},
   "outputs": [],
   "source": [
    "## pré-Processamento dos dados\n",
    "## Definição de preprocessamento em atributo\n",
    "\n",
    "x = DATA_AUX.drop([\"DOS\"], axis = 1)\n",
    "y = DATA_AUX.loc[:, \"DOS\"]\n",
    "\n",
    "x = OrdinalEncoder().fit_transform(x)"
   ]
  },
  {
   "cell_type": "markdown",
   "metadata": {},
   "source": [
    "> Divisão de dados para treinamento e teste sendo 20% para validação e 80% para treinamento."
   ]
  },
  {
   "cell_type": "code",
   "execution_count": 121,
   "metadata": {},
   "outputs": [],
   "source": [
    "x_train, x_test, y_train, y_test = train_test_split(x, y, test_size= 0.2, random_state = 1)"
   ]
  },
  {
   "cell_type": "markdown",
   "metadata": {},
   "source": [
    ">**3.2)** Aplique correlação ou PCA e selecione um número menor de atributos com esses métodos e justifique sua decisão. "
   ]
  },
  {
   "cell_type": "markdown",
   "metadata": {},
   "source": [
    "Correlação"
   ]
  },
  {
   "cell_type": "code",
   "execution_count": 122,
   "metadata": {},
   "outputs": [
    {
     "data": {
      "text/plain": [
       "<AxesSubplot:>"
      ]
     },
     "execution_count": 122,
     "metadata": {},
     "output_type": "execute_result"
    },
    {
     "data": {
      "image/png": "[encoded data removed]",
      "text/plain": [
       "<Figure size 1440x1440 with 2 Axes>"
      ]
     },
     "metadata": {
      "needs_background": "light"
     },
     "output_type": "display_data"
    }
   ],
   "source": [
    "plt.figure(figsize = (20, 20))\n",
    "\n",
    "sns.heatmap(DATA_AUX.corr(), cmap = \"YlGn\")"
   ]
  },
  {
   "cell_type": "markdown",
   "metadata": {},
   "source": [
    ">Para reduzir a quantidade de atributos, consideramos os 2 que não apresenta um valor descritivo bem representativo, dessa forma foi removido os atributos **Total** e **Outros**."
   ]
  },
  {
   "cell_type": "code",
   "execution_count": 123,
   "metadata": {},
   "outputs": [],
   "source": [
    "corr_matrix = DATA_AUX.corr().abs()\n",
    "upper = corr_matrix.where(np.triu(np.ones(corr_matrix.shape), k = 1).astype(np.bool_))\n",
    "to_drop = [column for column in upper.columns if any(upper[column] > 0.50)]"
   ]
  },
  {
   "cell_type": "code",
   "execution_count": 124,
   "metadata": {},
   "outputs": [
    {
     "data": {
      "text/plain": [
       "['DOS', 'Fraude']"
      ]
     },
     "execution_count": 124,
     "metadata": {},
     "output_type": "execute_result"
    }
   ],
   "source": [
    "to_drop"
   ]
  },
  {
   "cell_type": "code",
   "execution_count": 125,
   "metadata": {},
   "outputs": [
    {
     "data": {
      "text/html": [
       "<div>\n",
       "<style scoped>\n",
       "    .dataframe tbody tr th:only-of-type {\n",
       "        vertical-align: middle;\n",
       "    }\n",
       "\n",
       "    .dataframe tbody tr th {\n",
       "        vertical-align: top;\n",
       "    }\n",
       "\n",
       "    .dataframe thead th {\n",
       "        text-align: right;\n",
       "    }\n",
       "</style>\n",
       "<table border=\"1\" class=\"dataframe\">\n",
       "  <thead>\n",
       "    <tr style=\"text-align: right;\">\n",
       "      <th></th>\n",
       "      <th>Worm</th>\n",
       "      <th>DOS</th>\n",
       "      <th>Invasao</th>\n",
       "      <th>Web</th>\n",
       "      <th>Scan</th>\n",
       "      <th>Fraude</th>\n",
       "    </tr>\n",
       "  </thead>\n",
       "  <tbody>\n",
       "    <tr>\n",
       "      <th>0</th>\n",
       "      <td>7796</td>\n",
       "      <td>4191</td>\n",
       "      <td>19</td>\n",
       "      <td>2594</td>\n",
       "      <td>46038</td>\n",
       "      <td>1744</td>\n",
       "    </tr>\n",
       "    <tr>\n",
       "      <th>1</th>\n",
       "      <td>7707</td>\n",
       "      <td>2192</td>\n",
       "      <td>27</td>\n",
       "      <td>4179</td>\n",
       "      <td>54401</td>\n",
       "      <td>1459</td>\n",
       "    </tr>\n",
       "    <tr>\n",
       "      <th>2</th>\n",
       "      <td>4476</td>\n",
       "      <td>29309</td>\n",
       "      <td>19</td>\n",
       "      <td>2006</td>\n",
       "      <td>47966</td>\n",
       "      <td>1521</td>\n",
       "    </tr>\n",
       "    <tr>\n",
       "      <th>3</th>\n",
       "      <td>7624</td>\n",
       "      <td>2718</td>\n",
       "      <td>37</td>\n",
       "      <td>1555</td>\n",
       "      <td>45774</td>\n",
       "      <td>2119</td>\n",
       "    </tr>\n",
       "    <tr>\n",
       "      <th>4</th>\n",
       "      <td>6555</td>\n",
       "      <td>15773</td>\n",
       "      <td>74</td>\n",
       "      <td>1425</td>\n",
       "      <td>25521</td>\n",
       "      <td>2633</td>\n",
       "    </tr>\n",
       "  </tbody>\n",
       "</table>\n",
       "</div>"
      ],
      "text/plain": [
       "   Worm    DOS  Invasao   Web   Scan  Fraude\n",
       "0  7796   4191       19  2594  46038    1744\n",
       "1  7707   2192       27  4179  54401    1459\n",
       "2  4476  29309       19  2006  47966    1521\n",
       "3  7624   2718       37  1555  45774    2119\n",
       "4  6555  15773       74  1425  25521    2633"
      ]
     },
     "execution_count": 125,
     "metadata": {},
     "output_type": "execute_result"
    }
   ],
   "source": [
    "Att = ['Total', 'Outros']\n",
    "\n",
    "DATA_REDU = DATA_AUX.drop(DATA_AUX[Att], axis = 1)\n",
    "DATA_REDU.head()"
   ]
  },
  {
   "cell_type": "markdown",
   "metadata": {},
   "source": [
    "**PCA** Normalizar dados e atributo alvo:"
   ]
  },
  {
   "cell_type": "code",
   "execution_count": 126,
   "metadata": {},
   "outputs": [
    {
     "data": {
      "text/plain": [
       "array([[112.,  14.,  78., 111.,   2.],\n",
       "       [111.,  19.,  93., 116.,   0.],\n",
       "       [ 93.,  14.,  60., 113.,   1.],\n",
       "       [110.,  23.,  44., 110.,   5.],\n",
       "       [104.,  35.,  36.,  63.,  18.],\n",
       "       [105.,  31.,  30.,  45.,   7.],\n",
       "       [113.,  19.,  29.,  84.,  24.],\n",
       "       [117.,  30.,  45., 102.,  50.],\n",
       "       [115.,  20.,  56.,  69.,  60.],\n",
       "       [116.,  27.,  70.,  66.,  69.],\n",
       "       [107.,  36.,   3.,  49.,  68.],\n",
       "       [118.,  34.,  48.,  67.,  29.],\n",
       "       [102.,  37.,  91.,  93.,   3.],\n",
       "       [ 32.,  40.,  66.,  74.,  10.],\n",
       "       [ 46.,  24.,  63.,  70.,  40.],\n",
       "       [ 48.,  62.,  77., 112.,  70.],\n",
       "       [ 65.,  59.,  68.,  83.,  19.],\n",
       "       [ 97.,  52.,  55.,  47.,  22.],\n",
       "       [ 64.,  43.,  99., 114.,  34.],\n",
       "       [  3.,  32., 102.,  61.,  35.],\n",
       "       [ 55.,  21.,  67.,  80.,  42.],\n",
       "       [ 94.,  28.,  87.,  99.,  27.],\n",
       "       [ 61.,  49., 108.,  85.,   6.],\n",
       "       [ 81.,   9.,  89., 100.,  12.],\n",
       "       [  8.,  33., 118., 109.,  61.],\n",
       "       [ 22.,  22.,  95.,  42.,  44.],\n",
       "       [ 20.,  16., 106., 107.,  52.],\n",
       "       [ 35.,  13., 111.,  97.,  58.],\n",
       "       [ 37.,  29., 105.,  90.,  71.],\n",
       "       [ 85.,  12., 113.,  81.,  67.],\n",
       "       [ 95.,   0.,  92.,  94.,  62.],\n",
       "       [ 87.,  16.,  82.,  75.,  80.],\n",
       "       [108.,  17.,  39.,  96.,  32.],\n",
       "       [109.,  11.,  49., 118.,  41.],\n",
       "       [ 98.,  25.,  84., 115.,  33.],\n",
       "       [ 86.,  41.,  61.,  78.,  72.],\n",
       "       [ 96.,  65.,  73.,  91., 102.],\n",
       "       [ 90.,  39.,  35., 105.,  95.],\n",
       "       [ 83.,  45.,  97., 117., 100.],\n",
       "       [ 11.,  51.,  47.,  56., 101.],\n",
       "       [ 71.,  50.,  76.,  68., 106.],\n",
       "       [ 33.,  51.,  43., 106., 104.],\n",
       "       [ 28.,  46.,  53.,  64.,  77.],\n",
       "       [ 31.,  53., 117.,  71.,  86.],\n",
       "       [ 26.,  55., 104.,  54.,  73.],\n",
       "       [ 17.,  38., 100.,  59.,  48.],\n",
       "       [  5.,  70., 110.,  65.,  57.],\n",
       "       [ 14.,  26., 116.,  95.,  39.],\n",
       "       [ 54.,  72., 109., 101., 109.],\n",
       "       [ 52.,  66., 112., 104., 103.],\n",
       "       [ 60.,  76., 114.,  87.,  78.],\n",
       "       [ 66.,  56., 107.,  82.,  99.],\n",
       "       [ 68.,  60., 101.,  58., 113.],\n",
       "       [ 77.,  57., 115.,  76., 114.],\n",
       "       [ 88.,  58.,  98.,  89.,  81.],\n",
       "       [ 82.,  44.,  96.,  92., 110.],\n",
       "       [ 91.,  48.,  90.,  77., 108.],\n",
       "       [103.,  54.,  94.,  88.,  74.],\n",
       "       [100.,  55.,  74., 103.,  83.],\n",
       "       [ 99.,  47.,  41.,  86.,  75.],\n",
       "       [ 58.,  82.,  27.,  35.,  85.],\n",
       "       [ 89.,  92.,  37.,  46.,  97.],\n",
       "       [114.,  93.,  26.,  55.,  88.],\n",
       "       [ 78.,  99.,  57.,  60.,  94.],\n",
       "       [ 59.,  68.,  59.,  51., 105.],\n",
       "       [ 44.,  85.,  65.,  43., 111.],\n",
       "       [ 73.,  64.,  71.,  48., 112.],\n",
       "       [ 75.,  61.,  54.,  53., 116.],\n",
       "       [ 74.,  67.,  75.,  52., 118.],\n",
       "       [ 49.,  69.,  81.,  62., 117.],\n",
       "       [ 50.,  63.,  85.,  72., 115.],\n",
       "       [ 42.,  89., 103.,  79., 107.],\n",
       "       [ 41., 101.,  28.,  44.,  76.],\n",
       "       [ 23.,  96.,  33.,  27.,  63.],\n",
       "       [ 29., 100.,  21.,  34.,  55.],\n",
       "       [ 34.,  98.,  40.,  32.,  84.],\n",
       "       [ 27.,  94.,  31.,  22.,  59.],\n",
       "       [ 51.,  83.,  66.,  38.,  53.],\n",
       "       [ 63.,  77.,  50.,  33.,  87.],\n",
       "       [ 36.,  79.,  58.,  26.,  90.],\n",
       "       [ 45.,  74.,  46.,  39.,  92.],\n",
       "       [ 57.,  90.,  19.,  28.,  91.],\n",
       "       [ 56.,  71.,  72.,  29.,  96.],\n",
       "       [ 67.,  78.,  34.,  25.,  98.],\n",
       "       [106.,  84.,  64.,  12.,  47.],\n",
       "       [ 92.,  75.,  69.,  14.,  49.],\n",
       "       [ 47.,  80.,  86.,  23.,  54.],\n",
       "       [ 70.,  42.,  62.,  19.,  89.],\n",
       "       [ 72.,  73.,  88.,  31.,  93.],\n",
       "       [ 53.,  86.,  83.,  41.,  65.],\n",
       "       [ 62.,  97.,  80.,  50.,  82.],\n",
       "       [ 60.,  87.,  51., 108.,  64.],\n",
       "       [ 69.,  95.,  32.,  98.,  66.],\n",
       "       [ 76.,  91.,  24.,  57.,  79.],\n",
       "       [ 30.,  88.,  22.,  73.,  56.],\n",
       "       [ 24.,  81.,   5.,  40.,  51.],\n",
       "       [  7.,   4.,  17.,  11.,  25.],\n",
       "       [  0.,   6.,   9.,  10.,  37.],\n",
       "       [ 13.,  18.,  18.,  15.,  43.],\n",
       "       [ 10.,  10.,  14.,   7.,  46.],\n",
       "       [  6.,   3.,  20.,   6.,  31.],\n",
       "       [  2.,   1.,  23.,   9.,  15.],\n",
       "       [ 16.,   9.,  79.,  14.,  31.],\n",
       "       [ 39.,   8.,  52.,  30.,  36.],\n",
       "       [ 79.,   8.,  38.,  24.,  30.],\n",
       "       [ 84.,   3.,  12.,  37.,  28.],\n",
       "       [ 80.,   4.,  25.,  36.,  45.],\n",
       "       [101.,   4.,  42.,  21.,  26.],\n",
       "       [ 21.,   0.,   0.,   1.,  16.],\n",
       "       [ 40.,   3.,   1.,   0.,   9.],\n",
       "       [ 43.,   0.,   8.,   2.,  38.],\n",
       "       [ 38.,   2.,   2.,   4.,  20.],\n",
       "       [ 18.,   5.,   4.,   3.,  11.],\n",
       "       [ 19.,   1.,   6.,   5.,  21.],\n",
       "       [  9.,  15.,  16.,   8.,  14.],\n",
       "       [ 15.,   3.,  15.,  18.,  17.],\n",
       "       [  1.,   9.,   7.,  17.,  13.],\n",
       "       [ 25.,  13.,  11.,  13.,   4.],\n",
       "       [  4.,   7.,  10.,  20.,   8.],\n",
       "       [ 12.,   3.,  13.,  16.,  23.]])"
      ]
     },
     "execution_count": 126,
     "metadata": {},
     "output_type": "execute_result"
    }
   ],
   "source": [
    "\n",
    "x = DATA_REDU.drop([\"DOS\"], axis = 1)\n",
    "y = DATA_REDU.loc[:, \"DOS\"]\n",
    "\n",
    "x = OrdinalEncoder().fit_transform(x)\n",
    "x"
   ]
  },
  {
   "cell_type": "markdown",
   "metadata": {},
   "source": [
    "PCA aplicado em **3** componentes principais:"
   ]
  },
  {
   "cell_type": "code",
   "execution_count": 127,
   "metadata": {},
   "outputs": [
    {
     "data": {
      "text/html": [
       "<div>\n",
       "<style scoped>\n",
       "    .dataframe tbody tr th:only-of-type {\n",
       "        vertical-align: middle;\n",
       "    }\n",
       "\n",
       "    .dataframe tbody tr th {\n",
       "        vertical-align: top;\n",
       "    }\n",
       "\n",
       "    .dataframe thead th {\n",
       "        text-align: right;\n",
       "    }\n",
       "</style>\n",
       "<table border=\"1\" class=\"dataframe\">\n",
       "  <thead>\n",
       "    <tr style=\"text-align: right;\">\n",
       "      <th></th>\n",
       "      <th>PCA1</th>\n",
       "      <th>PCA2</th>\n",
       "      <th>PCA3</th>\n",
       "      <th>DOS</th>\n",
       "    </tr>\n",
       "  </thead>\n",
       "  <tbody>\n",
       "    <tr>\n",
       "      <th>0</th>\n",
       "      <td>-22.653055</td>\n",
       "      <td>95.771542</td>\n",
       "      <td>-9.217075</td>\n",
       "      <td>4191</td>\n",
       "    </tr>\n",
       "    <tr>\n",
       "      <th>1</th>\n",
       "      <td>-33.676318</td>\n",
       "      <td>97.521670</td>\n",
       "      <td>0.033650</td>\n",
       "      <td>2192</td>\n",
       "    </tr>\n",
       "    <tr>\n",
       "      <th>2</th>\n",
       "      <td>-6.821498</td>\n",
       "      <td>87.592830</td>\n",
       "      <td>-4.900704</td>\n",
       "      <td>29309</td>\n",
       "    </tr>\n",
       "    <tr>\n",
       "      <th>3</th>\n",
       "      <td>-7.418841</td>\n",
       "      <td>84.159968</td>\n",
       "      <td>-30.034025</td>\n",
       "      <td>2718</td>\n",
       "    </tr>\n",
       "    <tr>\n",
       "      <th>4</th>\n",
       "      <td>14.788338</td>\n",
       "      <td>46.702981</td>\n",
       "      <td>-40.925339</td>\n",
       "      <td>15773</td>\n",
       "    </tr>\n",
       "    <tr>\n",
       "      <th>...</th>\n",
       "      <td>...</td>\n",
       "      <td>...</td>\n",
       "      <td>...</td>\n",
       "      <td>...</td>\n",
       "    </tr>\n",
       "    <tr>\n",
       "      <th>115</th>\n",
       "      <td>92.899030</td>\n",
       "      <td>7.610723</td>\n",
       "      <td>15.445979</td>\n",
       "      <td>4</td>\n",
       "    </tr>\n",
       "    <tr>\n",
       "      <th>116</th>\n",
       "      <td>102.641427</td>\n",
       "      <td>-0.299971</td>\n",
       "      <td>20.247549</td>\n",
       "      <td>0</td>\n",
       "    </tr>\n",
       "    <tr>\n",
       "      <th>117</th>\n",
       "      <td>96.711954</td>\n",
       "      <td>11.174137</td>\n",
       "      <td>3.685259</td>\n",
       "      <td>1</td>\n",
       "    </tr>\n",
       "    <tr>\n",
       "      <th>118</th>\n",
       "      <td>101.184434</td>\n",
       "      <td>6.531816</td>\n",
       "      <td>21.081474</td>\n",
       "      <td>157</td>\n",
       "    </tr>\n",
       "    <tr>\n",
       "      <th>119</th>\n",
       "      <td>93.472069</td>\n",
       "      <td>1.829824</td>\n",
       "      <td>15.710949</td>\n",
       "      <td>21</td>\n",
       "    </tr>\n",
       "  </tbody>\n",
       "</table>\n",
       "<p>120 rows × 4 columns</p>\n",
       "</div>"
      ],
      "text/plain": [
       "           PCA1       PCA2       PCA3    DOS\n",
       "0    -22.653055  95.771542  -9.217075   4191\n",
       "1    -33.676318  97.521670   0.033650   2192\n",
       "2     -6.821498  87.592830  -4.900704  29309\n",
       "3     -7.418841  84.159968 -30.034025   2718\n",
       "4     14.788338  46.702981 -40.925339  15773\n",
       "..          ...        ...        ...    ...\n",
       "115   92.899030   7.610723  15.445979      4\n",
       "116  102.641427  -0.299971  20.247549      0\n",
       "117   96.711954  11.174137   3.685259      1\n",
       "118  101.184434   6.531816  21.081474    157\n",
       "119   93.472069   1.829824  15.710949     21\n",
       "\n",
       "[120 rows x 4 columns]"
      ]
     },
     "execution_count": 127,
     "metadata": {},
     "output_type": "execute_result"
    }
   ],
   "source": [
    "PCA_3 = PCA(n_components = 3)\n",
    "\n",
    "componentes = PCA_3.fit_transform(x)\n",
    "data_pca_5 = pd.DataFrame(componentes, columns = [\"PCA1\",\"PCA2\",\"PCA3\"])\n",
    "data_pca_5[\"DOS\"] = y\n",
    "\n",
    "data_pca_5"
   ]
  },
  {
   "cell_type": "markdown",
   "metadata": {},
   "source": [
    "**3.3)** Escolha 5 valores de K e mostre os resultados (escolha 3 métricas de avaliação e mostre a matriz de confusão) e explique os resultados encontrados. "
   ]
  },
  {
   "cell_type": "markdown",
   "metadata": {},
   "source": [
    "> Aplicando o KNN para 5 valores => K: 1, 5, 9"
   ]
  },
  {
   "cell_type": "code",
   "execution_count": 128,
   "metadata": {},
   "outputs": [],
   "source": [
    "LISTA_K = [1,5,9]\n",
    "\n",
    "KNN_LISTA = []\n",
    "\n",
    "for k in LISTA_K:\n",
    "    KNN_LISTA.append(KNeighborsClassifier(n_neighbors = k))\n",
    "\n",
    "for knn in KNN_LISTA:\n",
    "    knn.fit(x_train, y_train)"
   ]
  },
  {
   "cell_type": "code",
   "execution_count": 129,
   "metadata": {},
   "outputs": [],
   "source": [
    "Resultado_Lista = []\n",
    "\n",
    "for knn in KNN_LISTA:\n",
    "    Resultado_Lista.append(knn.predict(x_test))"
   ]
  },
  {
   "cell_type": "markdown",
   "metadata": {},
   "source": [
    "**Acurácia dos dados**"
   ]
  },
  {
   "cell_type": "code",
   "execution_count": 130,
   "metadata": {},
   "outputs": [
    {
     "name": "stdout",
     "output_type": "stream",
     "text": [
      "1-NN\n",
      "Acurácia: 0.08333\n",
      "5-NN\n",
      "Acurácia: 0.04167\n",
      "9-NN\n",
      "Acurácia: 0.04167\n"
     ]
    }
   ],
   "source": [
    "for result, k in zip(Resultado_Lista, LISTA_K):\n",
    "    print(f'{k}-NN')\n",
    "    print(f'Acurácia: {metrics.accuracy_score(y_test, result):.5f}')"
   ]
  },
  {
   "cell_type": "markdown",
   "metadata": {},
   "source": [
    "> A acuraria dos dados, é usado pra classificar a veracidade dos dados. Pode observar que quando o numero  **k** muda de 1 para 9 o classificador diminue, apresentando valores não satisfatórios. "
   ]
  },
  {
   "cell_type": "markdown",
   "metadata": {},
   "source": [
    "**Precisão dos dados**"
   ]
  },
  {
   "cell_type": "code",
   "execution_count": 131,
   "metadata": {},
   "outputs": [
    {
     "name": "stdout",
     "output_type": "stream",
     "text": [
      "1-NN\n",
      "Precisão: 0.03846\n",
      "5-NN\n",
      "Precisão: 0.00806\n",
      "9-NN\n",
      "Precisão: 0.00617\n"
     ]
    },
    {
     "name": "stderr",
     "output_type": "stream",
     "text": [
      "C:\\Users\\a1947482\\Anaconda3\\lib\\site-packages\\sklearn\\metrics\\_classification.py:1248: UndefinedMetricWarning: Precision is ill-defined and being set to 0.0 in labels with no predicted samples. Use `zero_division` parameter to control this behavior.\n",
      "  _warn_prf(average, modifier, msg_start, len(result))\n",
      "C:\\Users\\a1947482\\Anaconda3\\lib\\site-packages\\sklearn\\metrics\\_classification.py:1248: UndefinedMetricWarning: Precision is ill-defined and being set to 0.0 in labels with no predicted samples. Use `zero_division` parameter to control this behavior.\n",
      "  _warn_prf(average, modifier, msg_start, len(result))\n",
      "C:\\Users\\a1947482\\Anaconda3\\lib\\site-packages\\sklearn\\metrics\\_classification.py:1248: UndefinedMetricWarning: Precision is ill-defined and being set to 0.0 in labels with no predicted samples. Use `zero_division` parameter to control this behavior.\n",
      "  _warn_prf(average, modifier, msg_start, len(result))\n"
     ]
    }
   ],
   "source": [
    "for result, k in zip(Resultado_Lista, LISTA_K):\n",
    "    print(f'{k}-NN')\n",
    "    print(f\"Precisão: {metrics.precision_score(y_test, result, average='macro'):.5f}\")"
   ]
  },
  {
   "cell_type": "markdown",
   "metadata": {},
   "source": [
    "> A precisão dos dados calcula a incidencia previu a falhas, o quanto os dados estão corretos. "
   ]
  },
  {
   "cell_type": "markdown",
   "metadata": {},
   "source": [
    "**Matriz de confusão**"
   ]
  },
  {
   "cell_type": "code",
   "execution_count": 132,
   "metadata": {},
   "outputs": [
    {
     "name": "stdout",
     "output_type": "stream",
     "text": [
      "1-NN\n",
      "Matriz de Confusão:\n",
      " [[0 0 0 ... 0 0 0]\n",
      " [0 0 0 ... 0 0 0]\n",
      " [0 0 0 ... 0 0 0]\n",
      " ...\n",
      " [0 0 0 ... 0 0 0]\n",
      " [0 0 0 ... 0 0 1]\n",
      " [0 0 0 ... 0 0 0]]\n",
      "5-NN\n",
      "Matriz de Confusão:\n",
      " [[0 0 0 0 0 0 0 0 0 0 0 0 0 0 0 0 0 0 0 0 0 0 0 0 0 0 0 0 0 0 0]\n",
      " [1 0 0 0 0 0 0 0 0 0 0 0 0 0 0 0 0 0 0 0 0 0 0 0 0 0 0 0 0 0 0]\n",
      " [1 0 0 0 0 0 0 0 0 0 0 0 0 0 0 0 0 0 0 0 0 0 0 0 0 0 0 0 0 0 0]\n",
      " [1 0 0 0 0 0 1 0 0 0 0 0 0 0 0 0 0 0 0 0 0 0 0 0 0 0 0 0 0 0 0]\n",
      " [1 0 0 0 0 0 0 0 0 0 0 0 0 0 0 0 0 0 0 0 0 0 0 0 0 0 0 0 0 0 0]\n",
      " [0 0 0 0 0 0 0 0 0 0 0 0 0 0 0 0 0 0 0 0 0 0 0 0 0 0 0 0 0 0 0]\n",
      " [0 0 1 0 0 0 1 0 0 0 0 0 0 0 0 0 0 0 0 0 0 0 0 0 0 0 0 0 0 0 0]\n",
      " [0 0 1 0 0 0 0 0 0 0 0 0 0 0 0 0 0 0 0 0 0 0 0 0 0 0 0 0 0 0 0]\n",
      " [0 0 1 0 0 0 0 0 0 0 0 0 0 0 0 0 0 0 0 0 0 0 0 0 0 0 0 0 0 0 0]\n",
      " [0 0 0 0 0 0 0 0 0 0 0 0 0 0 0 0 0 0 0 0 0 0 0 0 0 0 0 0 0 0 0]\n",
      " [0 0 0 0 0 0 1 0 0 0 0 0 0 0 0 0 0 0 0 0 0 0 0 0 0 0 0 0 0 0 0]\n",
      " [0 0 0 0 0 1 0 0 0 0 0 0 0 0 0 0 0 0 0 0 0 0 0 0 0 0 0 0 0 0 0]\n",
      " [0 0 0 0 0 0 0 0 0 0 0 0 0 0 0 0 0 0 0 0 0 0 0 0 0 0 0 0 0 0 0]\n",
      " [0 0 0 0 0 0 0 0 0 1 0 0 0 0 0 0 0 0 0 0 0 0 0 0 0 0 0 0 0 0 0]\n",
      " [0 0 0 0 0 0 0 0 0 0 0 0 0 0 0 0 0 0 0 0 0 0 0 0 0 0 0 0 0 0 0]\n",
      " [0 0 0 0 0 0 0 0 0 0 0 0 0 0 0 0 0 0 0 0 0 0 0 0 0 0 0 0 0 0 0]\n",
      " [0 0 0 0 0 0 0 0 0 0 0 0 0 0 0 0 0 0 0 0 0 0 0 0 0 0 0 0 0 0 0]\n",
      " [0 0 1 0 0 0 0 0 0 0 0 0 0 0 0 0 0 0 0 0 0 0 0 0 0 0 0 0 0 0 0]\n",
      " [0 0 0 0 0 0 0 0 0 0 0 0 0 0 0 0 0 0 0 0 0 0 0 0 0 0 0 0 0 0 0]\n",
      " [0 0 0 0 0 0 0 0 0 0 0 0 1 0 0 0 0 0 0 0 0 0 0 0 0 0 0 0 0 0 0]\n",
      " [0 0 0 0 0 0 0 0 0 0 0 0 0 0 0 1 0 0 0 0 0 0 0 0 0 0 0 0 0 0 0]\n",
      " [0 0 0 0 0 0 0 0 0 0 0 0 0 1 0 0 0 0 0 0 0 0 0 0 0 0 0 0 0 0 0]\n",
      " [0 0 0 0 0 0 0 0 0 0 0 0 0 1 0 0 0 0 0 0 0 0 0 0 0 0 0 0 0 0 0]\n",
      " [0 0 0 0 0 0 0 0 0 0 0 0 0 1 0 0 0 0 0 0 0 0 0 0 0 0 0 0 0 0 0]\n",
      " [0 0 0 0 0 0 1 0 0 0 0 0 0 0 0 0 0 0 0 0 0 0 0 0 0 0 0 0 0 0 0]\n",
      " [0 0 0 0 0 0 0 0 1 0 0 0 0 0 0 0 0 0 0 0 0 0 0 0 0 0 0 0 0 0 0]\n",
      " [0 0 0 0 0 0 0 0 0 0 0 0 0 0 0 0 0 0 0 0 0 0 0 0 0 0 0 0 0 0 0]\n",
      " [0 0 0 0 0 0 0 0 0 0 0 0 0 0 0 0 0 0 1 0 0 0 0 0 0 0 0 0 0 0 0]\n",
      " [0 0 0 0 0 0 0 0 0 0 0 0 0 0 0 0 1 0 0 0 0 0 0 0 0 0 0 0 0 0 0]\n",
      " [0 0 0 0 0 0 0 0 0 0 0 0 0 0 1 0 0 0 0 0 0 0 0 0 0 0 0 0 0 0 0]\n",
      " [0 0 0 0 0 0 0 0 0 0 0 0 0 0 0 0 0 0 0 0 0 0 0 0 0 0 1 0 0 0 0]]\n",
      "9-NN\n",
      "Matriz de Confusão:\n",
      " [[0 0 0 0 0 0 0 0 0 0 0 0 0 0 0 0 0 0 0 0 0 0 0 0 0 0 0]\n",
      " [1 0 0 0 0 0 0 0 0 0 0 0 0 0 0 0 0 0 0 0 0 0 0 0 0 0 0]\n",
      " [1 0 0 0 0 0 0 0 0 0 0 0 0 0 0 0 0 0 0 0 0 0 0 0 0 0 0]\n",
      " [1 0 0 0 0 0 0 1 0 0 0 0 0 0 0 0 0 0 0 0 0 0 0 0 0 0 0]\n",
      " [1 0 0 0 0 0 0 0 0 0 0 0 0 0 0 0 0 0 0 0 0 0 0 0 0 0 0]\n",
      " [0 0 0 0 0 0 0 0 0 0 0 0 0 0 0 0 0 0 0 0 0 0 0 0 0 0 0]\n",
      " [0 0 0 0 0 0 0 0 0 0 0 0 0 0 0 0 0 0 0 0 0 0 0 0 0 0 0]\n",
      " [1 0 0 0 0 0 0 1 0 0 0 0 0 0 0 0 0 0 0 0 0 0 0 0 0 0 0]\n",
      " [1 0 0 0 0 0 0 0 0 0 0 0 0 0 0 0 0 0 0 0 0 0 0 0 0 0 0]\n",
      " [0 0 1 0 0 0 0 0 0 0 0 0 0 0 0 0 0 0 0 0 0 0 0 0 0 0 0]\n",
      " [0 0 0 0 0 1 0 0 0 0 0 0 0 0 0 0 0 0 0 0 0 0 0 0 0 0 0]\n",
      " [0 0 0 0 0 1 0 0 0 0 0 0 0 0 0 0 0 0 0 0 0 0 0 0 0 0 0]\n",
      " [0 0 0 0 0 1 0 0 0 0 0 0 0 0 0 0 0 0 0 0 0 0 0 0 0 0 0]\n",
      " [0 0 0 0 0 0 0 0 0 0 0 0 0 0 0 0 0 0 0 0 0 0 0 0 0 0 0]\n",
      " [0 0 0 0 0 0 0 1 0 0 0 0 0 0 0 0 0 0 0 0 0 0 0 0 0 0 0]\n",
      " [0 0 0 0 0 0 0 0 0 0 0 0 0 0 0 0 0 0 0 0 0 0 0 0 0 0 0]\n",
      " [0 0 0 0 0 0 0 1 0 0 0 0 0 0 0 0 0 0 0 0 0 0 0 0 0 0 0]\n",
      " [0 0 0 0 0 0 0 1 0 0 0 0 0 0 0 0 0 0 0 0 0 0 0 0 0 0 0]\n",
      " [0 0 0 0 0 0 0 0 0 0 0 0 1 0 0 0 0 0 0 0 0 0 0 0 0 0 0]\n",
      " [0 0 0 0 0 0 0 0 0 0 0 0 1 0 0 0 0 0 0 0 0 0 0 0 0 0 0]\n",
      " [0 0 0 0 0 0 0 0 0 0 0 0 1 0 0 0 0 0 0 0 0 0 0 0 0 0 0]\n",
      " [0 0 0 0 0 0 0 1 0 0 0 0 0 0 0 0 0 0 0 0 0 0 0 0 0 0 0]\n",
      " [0 0 0 0 0 0 0 0 0 1 0 0 0 0 0 0 0 0 0 0 0 0 0 0 0 0 0]\n",
      " [0 0 0 0 0 0 1 0 0 0 0 0 0 0 0 0 0 0 0 0 0 0 0 0 0 0 0]\n",
      " [0 0 0 0 0 0 1 0 0 0 0 0 0 0 0 0 0 0 0 0 0 0 0 0 0 0 0]\n",
      " [0 0 0 0 0 0 0 0 0 0 0 0 0 1 0 0 0 0 0 0 0 0 0 0 0 0 0]\n",
      " [0 0 0 0 0 0 0 0 0 0 0 0 0 0 0 1 0 0 0 0 0 0 0 0 0 0 0]]\n"
     ]
    }
   ],
   "source": [
    "for result, k in zip(Resultado_Lista, LISTA_K):\n",
    "    print(f'{k}-NN')\n",
    "    print(f'Matriz de Confusão:\\n {metrics.confusion_matrix(y_test, result)}')"
   ]
  },
  {
   "cell_type": "markdown",
   "metadata": {},
   "source": [
    "É observado através da matriz de confusão: <br>\n",
    "**Verdadeiros Negativos** amplia o incremento de K.<br>\n",
    "**Verdadeiros Positivos** amplia  o incremento de K.<br>\n",
    "**Falsos Positivos** reduz o incremento de K.<br>\n",
    "**Falsos Negativos** reduz o incremento de K.<br>\n",
    "\n",
    "Com essa relação é podemos inferir que o modelo propende a classificar em maior quantidade instâncias como verdadeiras e em baixa quantidade instâncias como falsas com o aumento de K. <br>\n",
    "\n",
    "<center>\n",
    "\n",
    "|||\n",
    "| :- | :- |\n",
    "| VN | FP |\n",
    "| FN | VP |\n",
    "\n",
    "<center>\n",
    "<br>\n",
    "Podemos ver que a Base de dados é desbalanceada, visto que algumas falhas não tem muita relção com outras, fazendo assim com que o classificador tenha uma representação com pontos distantes."
   ]
  },
  {
   "cell_type": "markdown",
   "metadata": {},
   "source": [
    "**Sensibilidade**"
   ]
  },
  {
   "cell_type": "code",
   "execution_count": 133,
   "metadata": {},
   "outputs": [
    {
     "name": "stdout",
     "output_type": "stream",
     "text": [
      "1-NN\n",
      "Precisão: 0.02564\n",
      "5-NN\n",
      "Precisão: 0.01613\n",
      "9-NN\n",
      "Precisão: 0.01852\n"
     ]
    },
    {
     "name": "stderr",
     "output_type": "stream",
     "text": [
      "C:\\Users\\a1947482\\Anaconda3\\lib\\site-packages\\sklearn\\metrics\\_classification.py:1248: UndefinedMetricWarning: Recall is ill-defined and being set to 0.0 in labels with no true samples. Use `zero_division` parameter to control this behavior.\n",
      "  _warn_prf(average, modifier, msg_start, len(result))\n",
      "C:\\Users\\a1947482\\Anaconda3\\lib\\site-packages\\sklearn\\metrics\\_classification.py:1248: UndefinedMetricWarning: Recall is ill-defined and being set to 0.0 in labels with no true samples. Use `zero_division` parameter to control this behavior.\n",
      "  _warn_prf(average, modifier, msg_start, len(result))\n",
      "C:\\Users\\a1947482\\Anaconda3\\lib\\site-packages\\sklearn\\metrics\\_classification.py:1248: UndefinedMetricWarning: Recall is ill-defined and being set to 0.0 in labels with no true samples. Use `zero_division` parameter to control this behavior.\n",
      "  _warn_prf(average, modifier, msg_start, len(result))\n"
     ]
    }
   ],
   "source": [
    "for result, k in zip(Resultado_Lista, LISTA_K):\n",
    "    print(f'{k}-NN')\n",
    "    print(f\"Precisão: {metrics.recall_score(y_test, result, average='macro'):.5f}\")"
   ]
  },
  {
   "cell_type": "markdown",
   "metadata": {},
   "source": [
    "A sensibilidade é definida como um aferidor do caso onde a falha maior foi a **DOS**."
   ]
  },
  {
   "cell_type": "markdown",
   "metadata": {},
   "source": [
    "**3.4)** Escolha 2 métricas de similaridade (diferentes distâncias ou outras métricas - correlação, por exemplo) para definir o(s) vizinho(s) mais próximos e explique os resultados encontrados. "
   ]
  },
  {
   "cell_type": "markdown",
   "metadata": {},
   "source": [
    "> Para analise dos casos foi estudado as metricas no site:\n",
    "<a href=\"https://scikit-learn.org/stable/modules/model_evaluation.html#precision-recall-f-measure-metrics\">Métricas e pontuação: quantificando a qualidade das previsões </a>\n"
   ]
  },
  {
   "cell_type": "code",
   "execution_count": 134,
   "metadata": {},
   "outputs": [
    {
     "name": "stdout",
     "output_type": "stream",
     "text": [
      "Acurácia: 0.04167\n",
      "Precisão: 0.02857\n",
      "Matriz de Confusão:\n",
      " [[0 0 0 ... 0 0 0]\n",
      " [1 0 0 ... 0 0 0]\n",
      " [1 0 0 ... 0 0 0]\n",
      " ...\n",
      " [0 0 0 ... 0 0 0]\n",
      " [0 0 0 ... 0 0 0]\n",
      " [0 0 0 ... 0 0 0]]\n",
      "Sensibilidade: 0.01429\n"
     ]
    },
    {
     "name": "stderr",
     "output_type": "stream",
     "text": [
      "C:\\Users\\a1947482\\Anaconda3\\lib\\site-packages\\sklearn\\metrics\\_classification.py:1248: UndefinedMetricWarning: Precision is ill-defined and being set to 0.0 in labels with no predicted samples. Use `zero_division` parameter to control this behavior.\n",
      "  _warn_prf(average, modifier, msg_start, len(result))\n",
      "C:\\Users\\a1947482\\Anaconda3\\lib\\site-packages\\sklearn\\metrics\\_classification.py:1248: UndefinedMetricWarning: Recall is ill-defined and being set to 0.0 in labels with no true samples. Use `zero_division` parameter to control this behavior.\n",
      "  _warn_prf(average, modifier, msg_start, len(result))\n"
     ]
    }
   ],
   "source": [
    "##chebyshev\n",
    "KNN = KNeighborsClassifier(n_neighbors = 3, metric = \"chebyshev\")\n",
    "KNN.fit(x_train, y_train)\n",
    "result = KNN.predict(x_test)\n",
    "\n",
    "\n",
    "print(f'Acurácia: {metrics.accuracy_score(y_test, result):.5f}')\n",
    "print(f\"Precisão: {metrics.precision_score(y_test, result, average='macro'):.5f}\")\n",
    "print(f'Matriz de Confusão:\\n {metrics.confusion_matrix(y_test, result)}')\n",
    "print(f\"Sensibilidade: {metrics.recall_score(y_test, result, average='macro'):.5f}\")\n"
   ]
  },
  {
   "cell_type": "code",
   "execution_count": 135,
   "metadata": {},
   "outputs": [
    {
     "name": "stdout",
     "output_type": "stream",
     "text": [
      "Acurácia: 0.08333\n",
      "Precisão: 0.04040\n",
      "Matriz de Confusão:\n",
      " [[0 0 0 ... 0 0 0]\n",
      " [1 0 0 ... 0 0 0]\n",
      " [1 0 0 ... 0 0 0]\n",
      " ...\n",
      " [0 0 0 ... 0 0 0]\n",
      " [0 0 0 ... 0 0 0]\n",
      " [0 0 0 ... 0 0 0]]\n",
      "Sensibilidade: 0.03030\n"
     ]
    },
    {
     "name": "stderr",
     "output_type": "stream",
     "text": [
      "C:\\Users\\a1947482\\Anaconda3\\lib\\site-packages\\sklearn\\metrics\\_classification.py:1248: UndefinedMetricWarning: Precision is ill-defined and being set to 0.0 in labels with no predicted samples. Use `zero_division` parameter to control this behavior.\n",
      "  _warn_prf(average, modifier, msg_start, len(result))\n",
      "C:\\Users\\a1947482\\Anaconda3\\lib\\site-packages\\sklearn\\metrics\\_classification.py:1248: UndefinedMetricWarning: Recall is ill-defined and being set to 0.0 in labels with no true samples. Use `zero_division` parameter to control this behavior.\n",
      "  _warn_prf(average, modifier, msg_start, len(result))\n"
     ]
    }
   ],
   "source": [
    "##manhattan\n",
    "KNN = KNeighborsClassifier(n_neighbors = 3, metric = \"manhattan\")\n",
    "KNN.fit(x_train, y_train)\n",
    "result = KNN.predict(x_test)\n",
    "\n",
    "\n",
    "print(f'Acurácia: {metrics.accuracy_score(y_test, result):.5f}')\n",
    "print(f\"Precisão: {metrics.precision_score(y_test, result, average='macro'):.5f}\")\n",
    "print(f'Matriz de Confusão:\\n {metrics.confusion_matrix(y_test, result)}')\n",
    "print(f\"Sensibilidade: {metrics.recall_score(y_test, result, average='macro'):.5f}\")\n"
   ]
  },
  {
   "cell_type": "markdown",
   "metadata": {},
   "source": [
    "> Com a metrica **manhattan** Podemos perceber que houve uma mudança nas metricas de Acurácia e Precisão em relação as outras."
   ]
  },
  {
   "cell_type": "markdown",
   "metadata": {},
   "source": [
    "**3.5)** Melhor K e melhor distância e testar com o conjunto de atributos do item 2."
   ]
  },
  {
   "cell_type": "markdown",
   "metadata": {},
   "source": [
    "O melhor K na analise foi o K=1 e utilizar a matrica ***manhattan***"
   ]
  },
  {
   "cell_type": "code",
   "execution_count": 136,
   "metadata": {},
   "outputs": [],
   "source": [
    "x = DATA_AUX.drop([\"DOS\"], axis = 1)\n",
    "y = DATA_AUX.loc[:, \"DOS\"]\n",
    "\n",
    "x_train, x_test, y_train, y_test = train_test_split(x, y, test_size= 0.2, random_state = 1)\n",
    "\n",
    "KNN = KNeighborsClassifier(n_neighbors = 1, metric = \"manhattan\")\n",
    "KNN.fit(x_train, y_train)\n",
    "result = KNN.predict(x_test)"
   ]
  },
  {
   "cell_type": "code",
   "execution_count": 137,
   "metadata": {},
   "outputs": [
    {
     "name": "stdout",
     "output_type": "stream",
     "text": [
      "Acurácia: 0.08333\n",
      "Precisão: 0.05263\n",
      "Matriz de Confusão:\n",
      " [[0 0 0 ... 0 0 0]\n",
      " [1 0 0 ... 0 0 0]\n",
      " [1 0 0 ... 0 0 0]\n",
      " ...\n",
      " [0 0 0 ... 0 0 0]\n",
      " [0 0 0 ... 0 0 0]\n",
      " [0 0 0 ... 0 1 0]]\n",
      "Sensibilidade: 0.03947\n"
     ]
    },
    {
     "name": "stderr",
     "output_type": "stream",
     "text": [
      "C:\\Users\\a1947482\\Anaconda3\\lib\\site-packages\\sklearn\\metrics\\_classification.py:1248: UndefinedMetricWarning: Precision is ill-defined and being set to 0.0 in labels with no predicted samples. Use `zero_division` parameter to control this behavior.\n",
      "  _warn_prf(average, modifier, msg_start, len(result))\n",
      "C:\\Users\\a1947482\\Anaconda3\\lib\\site-packages\\sklearn\\metrics\\_classification.py:1248: UndefinedMetricWarning: Recall is ill-defined and being set to 0.0 in labels with no true samples. Use `zero_division` parameter to control this behavior.\n",
      "  _warn_prf(average, modifier, msg_start, len(result))\n"
     ]
    }
   ],
   "source": [
    "print(f'Acurácia: {metrics.accuracy_score(y_test, result):.5f}')\n",
    "print(f\"Precisão: {metrics.precision_score(y_test, result, average='macro'):.5f}\")\n",
    "print(f'Matriz de Confusão:\\n {metrics.confusion_matrix(y_test, result)}')\n",
    "print(f\"Sensibilidade: {metrics.recall_score(y_test, result, average='macro'):.5f}\")"
   ]
  },
  {
   "cell_type": "markdown",
   "metadata": {},
   "source": [
    "Observamos que ao Aplicar apenas 1 componente tivemos uma melhora em relação as outras metricas, numero superior da Acurácia, e na precisão dos dados.\n",
    "A matriz de confusão teve uma variação maior, é possivel ver mais representações graficas.\n"
   ]
  },
  {
   "cell_type": "markdown",
   "metadata": {},
   "source": [
    "**4)** Considerando a matriz de confusão abaixo, quais são os valores das métricas listadas abaixo?"
   ]
  },
  {
   "cell_type": "code",
   "execution_count": 138,
   "metadata": {},
   "outputs": [],
   "source": [
    "##Dependências\n",
    "import math \n",
    "import numpy as np\n",
    "import pandas as pd\n",
    "import matplotlib.pyplot as plt\n",
    "import seaborn as sn\n",
    "\n",
    "from scipy.integrate import trapz"
   ]
  },
  {
   "cell_type": "code",
   "execution_count": 139,
   "metadata": {},
   "outputs": [],
   "source": [
    "def sensi(fruta: dict[str, int]): ## sensi - VP / (VP + FN)\n",
    "  return fruta[\"vp\"] / (fruta[\"vp\"] + fruta[\"fn\"])\n",
    "\n",
    "def especi(fruta: dict[str, int]): ## Especi - VN / (VN + FP)\n",
    "  return fruta[\"vn\"] / (fruta[\"vn\"] + fruta[\"fp\"])\n",
    "\n",
    "def precisao(fruta: dict[str, int]): ## Precisão - VP / (VP + FP)\n",
    "  return fruta[\"vp\"] / (fruta[\"vp\"] + fruta[\"fp\"])\n",
    "\n",
    "def f1(precisao, sensi): ## F1 = (2 * Precisão * sensi) / (Precisão + sensi)\n",
    "  return (2 * precisao * sensi) / (precisao + sensi)\n",
    "\n",
    "def acuracia(fruta: dict[str, int]): ## Acurácia = (VN + VP) / (VP + FN + VN + FP)\n",
    "  return (fruta[\"vn\"] + fruta[\"vp\"]) / (fruta[\"vp\"] + fruta[\"fn\"] + fruta[\"vn\"] + fruta[\"fp\"])   \n",
    "\n",
    "def phi(fruta: dict[str, int]):  ## Coeficiente de Correlação de Matthews (phi) = (VP * VN – FP * FN) / sqrt((VP + FP) * (VP + FN) * (VN + FP) * (VN + FN))\n",
    "  return (((fruta[\"vp\"] * fruta[\"vn\"]) - (fruta[\"fp\"] + fruta[\"fn\"])) / math.sqrt((fruta[\"vp\"] + fruta[\"fp\"]) * (fruta[\"vp\"] + fruta[\"fn\"]) * (fruta[\"vn\"] + fruta[\"fp\"]) * (fruta[\"vn\"] + fruta[\"fn\"])))\n",
    "\n",
    "def tpr(fruta: dict[str, int]): ## True Positive Rate - Taxa de Verdadeiro Positivo = (VP / (VP + FN))\n",
    "  return fruta[\"vp\"] / (fruta[\"vp\"] + fruta[\"fn\"])\n",
    "\n",
    "def fpr(fruta: dict[str, int]): ## False Positive Rate - Taxa de Falso Positivo = (FP / (VN + FP))\n",
    "  return fruta[\"fp\"] / (fruta[\"vn\"] + fruta[\"fp\"])"
   ]
  },
  {
   "cell_type": "code",
   "execution_count": 140,
   "metadata": {},
   "outputs": [
    {
     "data": {
      "image/png": "[encoded data removed]",
      "text/plain": [
       "<Figure size 432x288 with 2 Axes>"
      ]
     },
     "metadata": {
      "needs_background": "light"
     },
     "output_type": "display_data"
    }
   ],
   "source": [
    "mat_confu = np.array([[70, 20, 5, 5], [10, 67, 3, 20], [5, 30, 55, 10], [5, 4, 2, 1000]])\n",
    "dataframe_MC = pd.DataFrame(mat_confu, index = ['Maçã', 'Laranja', 'Limão', 'Manga'], columns = ['Maçã', 'Laranja', 'Limão', 'Manga'])\n",
    "\n",
    "res = sn.heatmap(dataframe_MC, annot = True, vmin = 0.0, vmax = 100.0, cmap = plt.cm.RdPu, fmt = 'g')\n",
    "plt.yticks([0.5, 1.5, 2.5, 3.5], ['Maçã', 'Laranja', 'Limão', 'Manga'], va = 'center')\n",
    "plt.title('Matriz de Confusão')\n",
    "plt.show()"
   ]
  },
  {
   "cell_type": "markdown",
   "metadata": {},
   "source": [
    "**Analise da Matriz de Confusão**"
   ]
  },
  {
   "cell_type": "code",
   "execution_count": 141,
   "metadata": {},
   "outputs": [],
   "source": [
    "#Analise da Diagonal Principal\n",
    "#identificação dos VPs\n",
    "#Divisão dos VN, VP, FN, FP\n",
    "maca = {\"vp\":70, \"fp\":(30), \"fn\":(20), \"vn\":(1125)}\n",
    "laranja = {\"vp\":67, \"fp\":(33), \"fn\":(54), \"vn\":(1125)}\n",
    "limao = {\"vp\":55, \"fp\":(45), \"fn\":(10), \"vn\":(1137)}\n",
    "manga = {\"vp\":1000, \"fp\":(11), \"fn\":(35), \"vn\":(192)}"
   ]
  },
  {
   "cell_type": "code",
   "execution_count": 142,
   "metadata": {},
   "outputs": [],
   "source": [
    "# Calculo das Métricas\n",
    "Sensibilidade = (sensi(maca) + sensi(laranja) + sensi(limao) + sensi(manga)) / 4\n",
    "especificidade = (especi(maca) + especi(laranja) + especi(limao) + especi(manga)) / 4\n",
    "Precisao = (precisao(maca) + precisao(laranja) + precisao(limao) + precisao(manga)) / 4 \n",
    "f1 = f1(Precisao, Sensibilidade)\n",
    "acuracia = (acuracia(maca) + acuracia(laranja) + acuracia(limao) + acuracia(manga)) / 4 \n",
    "phi = (phi(maca) + phi(laranja) + phi(limao) + phi(manga)) / 4 \n",
    "# ROC - AUC\n",
    "tpr = (tpr(maca) + tpr(laranja) + tpr(limao) + tpr(manga)) / 4 \n",
    "fpr = (fpr(maca) + fpr(laranja) + fpr(limao) + fpr(manga)) / 4 "
   ]
  },
  {
   "cell_type": "code",
   "execution_count": 143,
   "metadata": {},
   "outputs": [
    {
     "name": "stdout",
     "output_type": "stream",
     "text": [
      "Sensibilidade -> 0.79\n",
      "Especificidade -> 0.96\n",
      "Precisão -> 0.73\n",
      "F1 -> 0.76\n",
      "Acurácia -> 0.95\n",
      "Coeficiente de Matthews -> 0.71\n"
     ]
    }
   ],
   "source": [
    "\n",
    "Metricas = ['Sensibilidade','Especificidade','Precisão','F1','Acurácia','Coeficiente de Matthews']\n",
    "Func = [Sensibilidade,especificidade,Precisao,f1,acuracia,phi]\n",
    "for Met,Fun in zip( Metricas,Func):\n",
    "    print('{} -> {:.2f}'.format(Met,Fun))\n"
   ]
  },
  {
   "cell_type": "markdown",
   "metadata": {},
   "source": [
    "##### AUC"
   ]
  },
  {
   "cell_type": "code",
   "execution_count": 144,
   "metadata": {},
   "outputs": [
    {
     "name": "stdout",
     "output_type": "stream",
     "text": [
      "verdadeiro positivo -> 0.79\n",
      "falso positivo -> 0.04\n"
     ]
    }
   ],
   "source": [
    "Metricas = ['verdadeiro positivo','falso positivo']\n",
    "Func = [tpr,fpr]\n",
    "for Met,Fun in zip( Metricas,Func):\n",
    "    print('{} -> {:.2f}'.format(Met,Fun))\n"
   ]
  },
  {
   "cell_type": "code",
   "execution_count": 145,
   "metadata": {},
   "outputs": [
    {
     "name": "stdout",
     "output_type": "stream",
     "text": [
      "Área sob a curva - AUC = 0.87\n"
     ]
    }
   ],
   "source": [
    "y = (0, tpr, 1)\n",
    "x = (0, fpr, 1)\n",
    "auc = trapz(y, x)\n",
    "print('Área sob a curva - AUC = {:.2f}'.format(auc))"
   ]
  },
  {
   "cell_type": "markdown",
   "metadata": {},
   "source": [
    "> **Como você resolveria o problema dessa base de dados observando as métricas de avaliação?**\n",
    " - Analisando a base de dados e as métricas é possivel identificar um desbalançeamento dos dados, assim fazendo com que as informações tomem um rumo imparcial. assim com o objetivo de balancear as informações são utilizados tecnicas de clusterização assim gerando sub amostras e realizando outro dimensionamento das informações."
   ]
  },
  {
   "cell_type": "markdown",
   "metadata": {},
   "source": [
    "**5)** Elabore uma pergunta e responda sobre \"Preconceito e Inteligência Artificial\", refletindo aspectos importantes do método que uma pessoa engenheiro de dados/cientista de dados deve conhecer e se preocupar garantindo ética nos modelos criados."
   ]
  },
  {
   "cell_type": "markdown",
   "metadata": {},
   "source": [
    ">> Uma Inteligência Artificial pode tratar um ser humano com preconceito?\n",
    "\n",
    "\n",
    "    Uma IA é desenvolvida a partir de uma base de informações no qual vai ser fortalezida em experiências de acordo com as interações e combinações que ela é aplicada. Assim é muito importante tomar cuidado em quais métricas serão utilizadas para que a máquina consiga consumir informações que garanta a melhor experência possivel.\n",
    "    Em ambientes onde a base de informações coletadas pela IA seja influenciado por preconceitos, e comportamentos tendencioso vai fazer com que a máquina tome essas ações como as corretas e assim sendo replicadas e assim proporcionando situações não esperadas.\n",
    "    Realizar procedimentos de filtro é essencial para que a malha de interação da IA com o ambiente seja o mais eficiente possível.\n",
    "\n"
   ]
  }
 ],
 "metadata": {
  "interpreter": {
   "hash": "b3ba2566441a7c06988d0923437866b63cedc61552a5af99d1f4fb67d367b25f"
  },
  "kernelspec": {
   "display_name": "Python 3.8.8 ('base')",
   "language": "python",
   "name": "python3"
  },
  "language_info": {
   "codemirror_mode": {
    "name": "ipython",
    "version": 3
   },
   "file_extension": ".py",
   "mimetype": "text/x-python",
   "name": "python",
   "nbconvert_exporter": "python",
   "pygments_lexer": "ipython3",
   "version": "3.9.7"
  },
  "orig_nbformat": 4
 },
 "nbformat": 4,
 "nbformat_minor": 2
}
