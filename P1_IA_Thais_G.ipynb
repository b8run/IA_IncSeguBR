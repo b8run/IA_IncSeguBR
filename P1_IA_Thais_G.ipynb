{
 "cells": [
  {
   "cell_type": "markdown",
   "metadata": {},
   "source": [
    "## Inteligência Artificial / UFPB\n",
    "Aluno: Bruno Soares de oliveira lopes. <br>\n",
    "Matricula:20200136697 <br>\n",
    "Dataset: <a href=\"https://www.kaggle.com/datasets/rodrigoriboldi/incidentes-de-segurana-da-informao-no-brasil\">Incidentes de Segurança da Informação no Brasil</a>\n"
   ]
  },
  {
   "cell_type": "markdown",
   "metadata": {},
   "source": [
    "**1)** Para cada um dos agentes a seguir, desenvolva uma descrição completando a tabela abaixo sobre o ambiente de tarefas de cada um. <br>\n",
    "\n",
    "(A) Agente comentarista de jogo - CSGO. <br> <br>\n",
    "(B) Agente sugestor de vinho. <br> <br>\n",
    "(C) Agente treinador de time - E-sport."
   ]
  },
  {
   "cell_type": "markdown",
   "metadata": {},
   "source": [
    "|Agente| Medida de Desempenho | Ambiente | Atuadores | Sensores |\n",
    "| :- | :- | :- | :- | :- |\n",
    "| (A) | Passar informações das melhores jogadas, detalhar jogadas do MPV(melhor player do campeonato) de forma correta.  | Qual melhor mapa do game, atualizações sobre futuras mudanças no jogo, clutch(jogadas épicas) dos jogados | Dados do MVP do campeonato, reação dos jogadores ao ganhar o campeonato. | Movimentos do jogo, habilidades dos players em curto tempo, estatregia de jogo da equipe. |\n",
    "| (B) | Oferecer o melhor vinho considerando as caracteristicas do ambiente ou ambiente desejado pelo cliente. | Restaurantes, Feira de vinhos, Bares. | Informar os tipos de vinhos, regiões de produção, produtores e valores. | Degustação dos vinhos, Observação do teor alcoólico. |\n",
    "| (C) | Analisar a melhor tática dos jogadores, identificar melhor resultado positivo e negativo em partidas. | GH (Game House), campeonatos | Apresentar melhor jogada Solo, orientar sobre melhores jogadas e piores jogadas realizadas, informar qual foi o melhor mapa que o time ja jogou nos ultimos jogos. | Sensor visual, analise por monitor, comunicação do time em conjunto. |"
   ]
  },
  {
   "cell_type": "markdown",
   "metadata": {},
   "source": [
    "**3)** Em um Jupyter Notebook (link do collab, GitHub ou arquivo), utilize o método K vizinhos mais próximos na base escolhida na questão anterior para um contexto SUPERVISIONADO e para classificação: <br>"
   ]
  },
  {
   "cell_type": "markdown",
   "metadata": {},
   "source": [
    "**Dependencias**"
   ]
  },
  {
   "cell_type": "code",
   "execution_count": 1,
   "metadata": {},
   "outputs": [],
   "source": [
    "import pandas as pd\n",
    "import numpy as np\n",
    "import matplotlib.pyplot as plt\n",
    "import seaborn as sns\n",
    "\n",
    "from sklearn.decomposition import PCA\n",
    "from sklearn.preprocessing import RobustScaler\n",
    "from sklearn.model_selection import train_test_split\n",
    "from sklearn.neighbors import KNeighborsClassifier\n",
    "from sklearn.metrics import (accuracy_score, precision_score, recall_score, confusion_matrix)\n"
   ]
  },
  {
   "cell_type": "markdown",
   "metadata": {},
   "source": [
    "**DATASET**"
   ]
  },
  {
   "cell_type": "code",
   "execution_count": 9,
   "metadata": {},
   "outputs": [],
   "source": [
    "def Read_CSV(arquivo):\n",
    "    leitura = pd.read_csv(arquivo, encoding='utf-8', sep=';' )\n",
    "    return leitura"
   ]
  },
  {
   "cell_type": "code",
   "execution_count": 15,
   "metadata": {},
   "outputs": [
    {
     "data": {
      "text/html": [
       "<div>\n",
       "<style scoped>\n",
       "    .dataframe tbody tr th:only-of-type {\n",
       "        vertical-align: middle;\n",
       "    }\n",
       "\n",
       "    .dataframe tbody tr th {\n",
       "        vertical-align: top;\n",
       "    }\n",
       "\n",
       "    .dataframe thead th {\n",
       "        text-align: right;\n",
       "    }\n",
       "</style>\n",
       "<table border=\"1\" class=\"dataframe\">\n",
       "  <thead>\n",
       "    <tr style=\"text-align: right;\">\n",
       "      <th></th>\n",
       "      <th>Ano</th>\n",
       "      <th>Mes</th>\n",
       "      <th>Total</th>\n",
       "      <th>Worm</th>\n",
       "      <th>DOS</th>\n",
       "      <th>Invasao</th>\n",
       "      <th>Web</th>\n",
       "      <th>Scan</th>\n",
       "      <th>Fraude</th>\n",
       "      <th>Outros</th>\n",
       "    </tr>\n",
       "  </thead>\n",
       "  <tbody>\n",
       "    <tr>\n",
       "      <th>0</th>\n",
       "      <td>2019</td>\n",
       "      <td>Janeiro</td>\n",
       "      <td>62481</td>\n",
       "      <td>7796</td>\n",
       "      <td>4191</td>\n",
       "      <td>19</td>\n",
       "      <td>2594</td>\n",
       "      <td>46038</td>\n",
       "      <td>1744</td>\n",
       "      <td>99</td>\n",
       "    </tr>\n",
       "    <tr>\n",
       "      <th>1</th>\n",
       "      <td>2019</td>\n",
       "      <td>Fevereiro</td>\n",
       "      <td>70069</td>\n",
       "      <td>7707</td>\n",
       "      <td>2192</td>\n",
       "      <td>27</td>\n",
       "      <td>4179</td>\n",
       "      <td>54401</td>\n",
       "      <td>1459</td>\n",
       "      <td>104</td>\n",
       "    </tr>\n",
       "    <tr>\n",
       "      <th>2</th>\n",
       "      <td>2019</td>\n",
       "      <td>Março</td>\n",
       "      <td>85409</td>\n",
       "      <td>4476</td>\n",
       "      <td>29309</td>\n",
       "      <td>19</td>\n",
       "      <td>2006</td>\n",
       "      <td>47966</td>\n",
       "      <td>1521</td>\n",
       "      <td>112</td>\n",
       "    </tr>\n",
       "    <tr>\n",
       "      <th>3</th>\n",
       "      <td>2019</td>\n",
       "      <td>Abril</td>\n",
       "      <td>59900</td>\n",
       "      <td>7624</td>\n",
       "      <td>2718</td>\n",
       "      <td>37</td>\n",
       "      <td>1555</td>\n",
       "      <td>45774</td>\n",
       "      <td>2119</td>\n",
       "      <td>73</td>\n",
       "    </tr>\n",
       "    <tr>\n",
       "      <th>4</th>\n",
       "      <td>2019</td>\n",
       "      <td>Maio</td>\n",
       "      <td>52129</td>\n",
       "      <td>6555</td>\n",
       "      <td>15773</td>\n",
       "      <td>74</td>\n",
       "      <td>1425</td>\n",
       "      <td>25521</td>\n",
       "      <td>2633</td>\n",
       "      <td>148</td>\n",
       "    </tr>\n",
       "  </tbody>\n",
       "</table>\n",
       "</div>"
      ],
      "text/plain": [
       "    Ano        Mes  Total  Worm    DOS  Invasao   Web   Scan  Fraude  Outros\n",
       "0  2019    Janeiro  62481  7796   4191       19  2594  46038    1744      99\n",
       "1  2019  Fevereiro  70069  7707   2192       27  4179  54401    1459     104\n",
       "2  2019      Março  85409  4476  29309       19  2006  47966    1521     112\n",
       "3  2019      Abril  59900  7624   2718       37  1555  45774    2119      73\n",
       "4  2019       Maio  52129  6555  15773       74  1425  25521    2633     148"
      ]
     },
     "execution_count": 15,
     "metadata": {},
     "output_type": "execute_result"
    }
   ],
   "source": [
    "\n",
    "DATA = Read_CSV('cert_2010-2019.csv')\n",
    "DATA.head()"
   ]
  },
  {
   "cell_type": "markdown",
   "metadata": {},
   "source": [
    "**Pré-processamento dos dados**"
   ]
  },
  {
   "cell_type": "code",
   "execution_count": 16,
   "metadata": {},
   "outputs": [
    {
     "name": "stdout",
     "output_type": "stream",
     "text": [
      "<class 'pandas.core.frame.DataFrame'>\n",
      "RangeIndex: 120 entries, 0 to 119\n",
      "Data columns (total 10 columns):\n",
      " #   Column   Non-Null Count  Dtype \n",
      "---  ------   --------------  ----- \n",
      " 0   Ano      120 non-null    int64 \n",
      " 1   Mes      120 non-null    object\n",
      " 2   Total    120 non-null    int64 \n",
      " 3   Worm     120 non-null    int64 \n",
      " 4   DOS      120 non-null    int64 \n",
      " 5   Invasao  120 non-null    int64 \n",
      " 6   Web      120 non-null    int64 \n",
      " 7   Scan     120 non-null    int64 \n",
      " 8   Fraude   120 non-null    int64 \n",
      " 9   Outros   120 non-null    int64 \n",
      "dtypes: int64(9), object(1)\n",
      "memory usage: 9.5+ KB\n"
     ]
    }
   ],
   "source": [
    "DATA.info()"
   ]
  },
  {
   "cell_type": "markdown",
   "metadata": {},
   "source": [
    "**Identificando os valores numericos**"
   ]
  },
  {
   "cell_type": "code",
   "execution_count": 19,
   "metadata": {},
   "outputs": [
    {
     "data": {
      "text/plain": [
       "Ano        0\n",
       "Mes        0\n",
       "Total      0\n",
       "Worm       0\n",
       "DOS        0\n",
       "Invasao    0\n",
       "Web        0\n",
       "Scan       0\n",
       "Fraude     0\n",
       "Outros     0\n",
       "dtype: int64"
      ]
     },
     "execution_count": 19,
     "metadata": {},
     "output_type": "execute_result"
    }
   ],
   "source": [
    "DATA.isnull().sum()"
   ]
  },
  {
   "cell_type": "markdown",
   "metadata": {},
   "source": [
    "**Identificado que a base não tem valores NULL** <br>\n",
    "**Realizando um filtro com objetivo de trabalhar os valores numéricos**"
   ]
  }
 ],
 "metadata": {
  "interpreter": {
   "hash": "b3ba2566441a7c06988d0923437866b63cedc61552a5af99d1f4fb67d367b25f"
  },
  "kernelspec": {
   "display_name": "Python 3.8.8 ('base')",
   "language": "python",
   "name": "python3"
  },
  "language_info": {
   "codemirror_mode": {
    "name": "ipython",
    "version": 3
   },
   "file_extension": ".py",
   "mimetype": "text/x-python",
   "name": "python",
   "nbconvert_exporter": "python",
   "pygments_lexer": "ipython3",
   "version": "3.8.8"
  },
  "orig_nbformat": 4
 },
 "nbformat": 4,
 "nbformat_minor": 2
}
